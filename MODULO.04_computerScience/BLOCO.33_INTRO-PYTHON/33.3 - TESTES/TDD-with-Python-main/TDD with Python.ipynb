{
 "cells": [
  {
   "cell_type": "markdown",
   "id": "f815a551",
   "metadata": {},
   "source": [
    "# TDD"
   ]
  },
  {
   "cell_type": "markdown",
   "id": "aec5adaa",
   "metadata": {},
   "source": [
    "## O que é?\n",
    "\n",
    "TDD é a sigla para ***Test-Driven Development***, ou ***Desenvolvimento Orientado a Testes*** em português, uma técnica que vem sendo muito utilizada em ambientes de desenvolvimento que implementam ***metodologias ágeis***, pois define de maneira nítida qual o escopo da funcionalidade a ser desenvolvida nas *sprints*.  \n",
    "  \n",
    "A ideia por trás do TDD está em inverter a fase de desenvolvimento e a fase de testes da aplicação. Primeiro, escrevemos os testes que definem o que nossa função deve fazer: o que deve retornar quando recebe determinados parâmetros, quais erros deve levantar ao receber dados ou parâmetros inválidos... com tudo isso definido já no inicio do desenvolvimento, podemos aproveitar melhor nosso tempo para escrever um código mais limpo e bem construído."
   ]
  },
  {
   "cell_type": "markdown",
   "id": "e30ab304",
   "metadata": {},
   "source": [
    "## Quais são as etapas?\n",
    "\n",
    "O TDD é dividído em 3 principais etapas, comunmente identificadas por cores:\n",
    "\n",
    "1 - Vermelho: Escrever os testes;\n",
    "\n",
    "2 - Verde: Escrever um código que passe nos testes;\n",
    "\n",
    "3 - Azul: Refatorar o código feito, de forma que fique mais limpo e legível.\n",
    "\n",
    "\n",
    "Inicialmente, identificamos o escopo da nossa funcionalidade: quais os parâmetros e dados que receberemo, e o que esperamos que seja feito, porém como ainda não há nenhum código implementado, o teste irá falhar.  \n",
    "\n",
    "Com os testes prontos, partimos então para o desenvolvimento de uma solução que passe nos testes, sem se preocupar fortemente com a qualidade e outros aspectos ligados ao *Clean Code*.  \n",
    "\n",
    "Com os testes prontos e um código que se comporta como esperamos, podemos então refatorá-lo de forma a atender aos padrões de qualidade (*Clean Code*) esperados.\n"
   ]
  },
  {
   "cell_type": "markdown",
   "id": "f6552c6e",
   "metadata": {},
   "source": [
    "## Porque usar TDD?\n",
    "\n",
    "Ao escrever um código sabendo exatamente qual deve ser seu comportamento, evitamos escrever códigos desnecessário, de alta complexidade ou que não façam o que é esperado, colaborando para o bom uso do tempo de desenvolvimento.  \n",
    "\n",
    "Ao escrevermos os testes depois do código, podemos acabar enviezados pelo que achamos ser o comportamento ideal da funcionalidade, ou então ao escrever o teste e precisar alterar o código feito anteriormente, podemos criar bugs que passarão despercebidos pois nem todos os testes serão executados novamente."
   ]
  },
  {
   "cell_type": "markdown",
   "id": "b814d34f",
   "metadata": {},
   "source": [
    "## Quando não usar\n",
    "\n",
    "Quando o escopo das funcionalidades não é bem definido, usar TDD pode ser um problema: escreveremos os testes, implementeramos a solução, porém no meio do caminho descobrimos que uma função que se comportava de maneira X agora deve ter comportamento Y, e então além da implementação teremos que reescrever também todos os testes, o que aumenta o tempo gasto para desenvolver a *task*. "
   ]
  },
  {
   "cell_type": "code",
   "execution_count": null,
   "id": "b9f23dd3",
   "metadata": {},
   "outputs": [],
   "source": []
  }
 ],
 "metadata": {
  "kernelspec": {
   "display_name": "Python 3 (ipykernel)",
   "language": "python",
   "name": "python3"
  },
  "language_info": {
   "codemirror_mode": {
    "name": "ipython",
    "version": 3
   },
   "file_extension": ".py",
   "mimetype": "text/x-python",
   "name": "python",
   "nbconvert_exporter": "python",
   "pygments_lexer": "ipython3",
   "version": "3.9.10"
  }
 },
 "nbformat": 4,
 "nbformat_minor": 5
}
